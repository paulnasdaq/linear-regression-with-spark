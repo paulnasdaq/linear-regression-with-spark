{
 "cells": [
  {
   "cell_type": "code",
   "metadata": {
    "ExecuteTime": {
     "end_time": "2024-11-04T05:27:42.757054Z",
     "start_time": "2024-11-04T05:27:42.749784Z"
    }
   },
   "source": [
    "import os\n",
    "\n",
    "# Local configs for Hadoop and Hive\n",
    "os.environ['SPARK_HOME'] = '/home/paulnasdaq/spark-3.5.1-bin-without-hadoop'\n",
    "os.environ['SPARK_DIST_CLASSPATH'] = '/home/paulnasdaq/hadoop-3.4.0/etc/hadoop:/home/paulnasdaq/hadoop-3.4.0/share/hadoop/common/lib/*:/home/paulnasdaq/hadoop-3.4.0/share/hadoop/common/*:/home/paulnasdaq/hadoop-3.4.0/share/hadoop/hdfs:/home/paulnasdaq/hadoop-3.4.0/share/hadoop/hdfs/lib/*:/home/paulnasdaq/hadoop-3.4.0/share/hadoop/hdfs/*:/home/paulnasdaq/hadoop-3.4.0/share/hadoop/mapreduce/*:/home/paulnasdaq/hadoop-3.4.0/share/hadoop/yarn:/home/paulnasdaq/hadoop-3.4.0/share/hadoop/yarn/lib/*:/home/paulnasdaq/hadoop-3.4.0/share/hadoop/yarn/*'\n",
    "from pyspark.sql import SparkSession\n",
    "\n",
    "\n"
   ],
   "outputs": [],
   "execution_count": 1
  },
  {
   "metadata": {
    "ExecuteTime": {
     "end_time": "2024-11-04T05:27:45.105106Z",
     "start_time": "2024-11-04T05:27:45.097455Z"
    }
   },
   "cell_type": "code",
   "source": "spark = SparkSession.builder.getOrCreate()",
   "outputs": [],
   "execution_count": 2
  },
  {
   "metadata": {},
   "cell_type": "code",
   "source": [
    "# Optional (Load data from Hive)\n",
    "# housing_df = spark.read.format('parquet').load('/usr/hive/warehouse/unsw_nb15.db/final')"
   ],
   "outputs": [],
   "execution_count": null
  },
  {
   "metadata": {
    "ExecuteTime": {
     "end_time": "2024-11-04T05:27:55.184331Z",
     "start_time": "2024-11-04T05:27:48.285410Z"
    }
   },
   "cell_type": "code",
   "source": [
    "# Load data from HDFS\n",
    "housing_df = spark.read.csv(\"/housing.csv\", header=True, inferSchema=True)"
   ],
   "outputs": [
    {
     "name": "stderr",
     "output_type": "stream",
     "text": [
      "                                                                                \r"
     ]
    }
   ],
   "execution_count": 3
  },
  {
   "metadata": {
    "ExecuteTime": {
     "end_time": "2024-11-04T05:27:57.674661Z",
     "start_time": "2024-11-04T05:27:57.668394Z"
    }
   },
   "cell_type": "code",
   "source": "housing_df.printSchema()",
   "outputs": [
    {
     "name": "stdout",
     "output_type": "stream",
     "text": [
      "root\n",
      " |-- longitude: double (nullable = true)\n",
      " |-- latitude: double (nullable = true)\n",
      " |-- housing_median_age: double (nullable = true)\n",
      " |-- total_rooms: double (nullable = true)\n",
      " |-- total_bedrooms: double (nullable = true)\n",
      " |-- population: double (nullable = true)\n",
      " |-- households: double (nullable = true)\n",
      " |-- median_income: double (nullable = true)\n",
      " |-- median_house_value: double (nullable = true)\n",
      " |-- ocean_proximity: string (nullable = true)\n",
      "\n"
     ]
    }
   ],
   "execution_count": 4
  },
  {
   "metadata": {
    "ExecuteTime": {
     "end_time": "2024-11-04T05:28:02.262098Z",
     "start_time": "2024-11-04T05:28:01.297652Z"
    }
   },
   "cell_type": "code",
   "source": [
    "from pyspark.sql.functions import monotonically_increasing_id\n",
    "\n",
    "housing_df = housing_df.withColumn('id', monotonically_increasing_id())\n",
    "\n",
    "housing_df.count()"
   ],
   "outputs": [
    {
     "data": {
      "text/plain": [
       "20640"
      ]
     },
     "execution_count": 5,
     "metadata": {},
     "output_type": "execute_result"
    }
   ],
   "execution_count": 5
  },
  {
   "metadata": {
    "ExecuteTime": {
     "end_time": "2024-11-04T05:28:05.947037Z",
     "start_time": "2024-11-04T05:28:05.331593Z"
    }
   },
   "cell_type": "code",
   "source": "housing_df.select('total_rooms').agg({'total_rooms': 'avg'}).show()",
   "outputs": [
    {
     "name": "stdout",
     "output_type": "stream",
     "text": [
      "+------------------+\n",
      "|  avg(total_rooms)|\n",
      "+------------------+\n",
      "|2635.7630813953488|\n",
      "+------------------+\n",
      "\n"
     ]
    }
   ],
   "execution_count": 6
  },
  {
   "metadata": {
    "ExecuteTime": {
     "end_time": "2024-11-04T05:28:11.599406Z",
     "start_time": "2024-11-04T05:28:10.833678Z"
    }
   },
   "cell_type": "code",
   "source": [
    "from pyspark.sql.functions import mean\n",
    "\n",
    "housing_df.select(*[mean(c) for c in housing_df.columns]).show()"
   ],
   "outputs": [
    {
     "name": "stdout",
     "output_type": "stream",
     "text": [
      "+-------------------+----------------+-----------------------+------------------+-------------------+------------------+-----------------+------------------+-----------------------+--------------------+-------+\n",
      "|     avg(longitude)|   avg(latitude)|avg(housing_median_age)|  avg(total_rooms)|avg(total_bedrooms)|   avg(population)|  avg(households)|avg(median_income)|avg(median_house_value)|avg(ocean_proximity)|avg(id)|\n",
      "+-------------------+----------------+-----------------------+------------------+-------------------+------------------+-----------------+------------------+-----------------------+--------------------+-------+\n",
      "|-119.56970445736148|35.6318614341087|     28.639486434108527|2635.7630813953488|  537.8705525375618|1425.4767441860465|499.5396802325581|3.8706710029070246|     206855.81690891474|                NULL|10319.5|\n",
      "+-------------------+----------------+-----------------------+------------------+-------------------+------------------+-----------------+------------------+-----------------------+--------------------+-------+\n",
      "\n"
     ]
    }
   ],
   "execution_count": 7
  },
  {
   "metadata": {
    "ExecuteTime": {
     "end_time": "2024-11-04T05:28:17.793731Z",
     "start_time": "2024-11-04T05:28:16.882659Z"
    }
   },
   "cell_type": "code",
   "source": "housing_df.groupby('ocean_proximity').agg({col: 'avg' for col in housing_df.columns}).show()",
   "outputs": [
    {
     "name": "stdout",
     "output_type": "stream",
     "text": [
      "+---------------+------------------+------------------+------------------+-------------------+-------------------+------------------+------------------+------------------+-----------------------+-----------------------+--------------------+\n",
      "|ocean_proximity|   avg(households)|     avg(latitude)|   avg(population)|avg(total_bedrooms)|     avg(longitude)|           avg(id)|avg(median_income)|  avg(total_rooms)|avg(median_house_value)|avg(housing_median_age)|avg(ocean_proximity)|\n",
      "+---------------+------------------+------------------+------------------+-------------------+-------------------+------------------+------------------+------------------+-----------------------+-----------------------+--------------------+\n",
      "|         ISLAND|             276.6|33.358000000000004|             668.0|              420.4|           -118.354|            8316.0|2.7444200000000003|            1574.6|               380440.0|                   42.4|                NULL|\n",
      "|     NEAR OCEAN|501.24454477050415| 34.73843867569602|1354.0086531226486|  538.6156773211568|-119.33255455229478|14192.346877351392| 4.005784800601957| 2583.700902934537|     249433.97742663656|     29.347253574115875|                NULL|\n",
      "|       NEAR BAY| 488.6161572052402|37.801056768558915|1230.3174672489083|  514.1828193832599| -122.2606943231443| 7163.447161572052| 4.172884759825336| 2493.589519650655|     259212.31179039303|      37.73013100436681|                NULL|\n",
      "|      <1H OCEAN| 517.7449649737302|34.560576838879264|1520.2904991243433|  546.5391852999778|-118.84776598073506| 9677.915061295971|4.2306819176882655|2628.3435858143607|     240084.28546409807|     29.279225043782837|                NULL|\n",
      "|         INLAND|477.44756525721266| 36.73182872843834|1391.0462524805373|  533.8816194581281|-119.73299038314796| 10747.65928865822| 3.208996382231716|2717.7427873607085|     124805.39200122119|      24.27186689055106|                NULL|\n",
      "+---------------+------------------+------------------+------------------+-------------------+-------------------+------------------+------------------+------------------+-----------------------+-----------------------+--------------------+\n",
      "\n"
     ]
    }
   ],
   "execution_count": 8
  },
  {
   "metadata": {
    "ExecuteTime": {
     "end_time": "2024-11-04T05:28:28.312322Z",
     "start_time": "2024-11-04T05:28:28.139123Z"
    }
   },
   "cell_type": "code",
   "source": [
    "from pyspark.sql.types import FloatType\n",
    "from pyspark.sql.functions import udf\n",
    "\n",
    "def squared(value):\n",
    "    return value * value\n",
    "\n",
    "squared_udf = udf(squared, FloatType())\n",
    "\n",
    "housing_df.withColumn('total_rooms_sq', squared_udf('total_rooms'))\n",
    "housing_df.count()"
   ],
   "outputs": [
    {
     "data": {
      "text/plain": [
       "20640"
      ]
     },
     "execution_count": 9,
     "metadata": {},
     "output_type": "execute_result"
    }
   ],
   "execution_count": 9
  },
  {
   "metadata": {
    "ExecuteTime": {
     "end_time": "2024-11-04T05:28:30.802417Z",
     "start_time": "2024-11-04T05:28:30.771511Z"
    }
   },
   "cell_type": "code",
   "source": [
    "train, test = housing_df.randomSplit([0.7, 0.3])\n",
    "\n",
    "train, test"
   ],
   "outputs": [
    {
     "data": {
      "text/plain": [
       "(DataFrame[longitude: double, latitude: double, housing_median_age: double, total_rooms: double, total_bedrooms: double, population: double, households: double, median_income: double, median_house_value: double, ocean_proximity: string, id: bigint],\n",
       " DataFrame[longitude: double, latitude: double, housing_median_age: double, total_rooms: double, total_bedrooms: double, population: double, households: double, median_income: double, median_house_value: double, ocean_proximity: string, id: bigint])"
      ]
     },
     "execution_count": 10,
     "metadata": {},
     "output_type": "execute_result"
    }
   ],
   "execution_count": 10
  },
  {
   "metadata": {
    "ExecuteTime": {
     "end_time": "2024-11-04T05:28:33.026219Z",
     "start_time": "2024-11-04T05:28:33.021181Z"
    }
   },
   "cell_type": "code",
   "source": [
    "numerical_features_list = train.columns\n",
    "numerical_features_list.remove('median_house_value')\n",
    "numerical_features_list.remove('id')\n",
    "numerical_features_list.remove('ocean_proximity')\n",
    "\n",
    "numerical_features_list"
   ],
   "outputs": [
    {
     "data": {
      "text/plain": [
       "['longitude',\n",
       " 'latitude',\n",
       " 'housing_median_age',\n",
       " 'total_rooms',\n",
       " 'total_bedrooms',\n",
       " 'population',\n",
       " 'households',\n",
       " 'median_income']"
      ]
     },
     "execution_count": 11,
     "metadata": {},
     "output_type": "execute_result"
    }
   ],
   "execution_count": 11
  },
  {
   "metadata": {
    "ExecuteTime": {
     "end_time": "2024-11-04T05:28:38.663389Z",
     "start_time": "2024-11-04T05:28:35.683409Z"
    }
   },
   "cell_type": "code",
   "source": [
    "from pyspark.ml.feature import Imputer\n",
    "\n",
    "imputer = Imputer(inputCols=numerical_features_list, outputCols=numerical_features_list)\n",
    "\n",
    "imputer = imputer.fit(train)\n",
    "train = imputer.transform(train)\n",
    "\n",
    "test = imputer.transform(test)\n",
    "\n",
    "train.show()"
   ],
   "outputs": [
    {
     "name": "stderr",
     "output_type": "stream",
     "text": [
      "                                                                                \r"
     ]
    },
    {
     "name": "stdout",
     "output_type": "stream",
     "text": [
      "+---------+--------+------------------+-----------+--------------+----------+----------+-------------+------------------+---------------+----+\n",
      "|longitude|latitude|housing_median_age|total_rooms|total_bedrooms|population|households|median_income|median_house_value|ocean_proximity|  id|\n",
      "+---------+--------+------------------+-----------+--------------+----------+----------+-------------+------------------+---------------+----+\n",
      "|  -124.35|   40.54|              52.0|     1820.0|         300.0|     806.0|     270.0|       3.0147|           94600.0|     NEAR OCEAN|2655|\n",
      "|   -124.3|    41.8|              19.0|     2672.0|         552.0|    1298.0|     478.0|       1.9797|           85800.0|     NEAR OCEAN|1851|\n",
      "|   -124.3|   41.84|              17.0|     2677.0|         531.0|    1244.0|     456.0|       3.0313|          103600.0|     NEAR OCEAN|1861|\n",
      "|  -124.27|   40.69|              36.0|     2349.0|         528.0|    1194.0|     465.0|       2.5179|           79000.0|     NEAR OCEAN|2631|\n",
      "|  -124.25|   40.28|              32.0|     1430.0|         419.0|     434.0|     187.0|       1.9417|           76100.0|     NEAR OCEAN|2656|\n",
      "|  -124.23|   41.75|              11.0|     3159.0|         616.0|    1343.0|     479.0|       2.4805|           73200.0|     NEAR OCEAN|1852|\n",
      "|  -124.22|   41.73|              28.0|     3003.0|         699.0|    1530.0|     653.0|       1.7038|           78300.0|     NEAR OCEAN|1855|\n",
      "|  -124.21|   40.75|              32.0|     1218.0|         331.0|     620.0|     268.0|       1.6528|           58100.0|     NEAR OCEAN|2630|\n",
      "|  -124.21|   41.75|              20.0|     3810.0|         787.0|    1993.0|     721.0|       2.0074|           66900.0|     NEAR OCEAN|1856|\n",
      "|  -124.21|   41.77|              17.0|     3461.0|         722.0|    1947.0|     647.0|       2.5795|           68400.0|     NEAR OCEAN|1853|\n",
      "|  -124.19|   40.77|              30.0|     2975.0|         634.0|    1367.0|     583.0|        2.442|           69000.0|     NEAR OCEAN|2558|\n",
      "|  -124.19|   40.78|              37.0|     1371.0|         319.0|     640.0|     260.0|       1.8242|           70000.0|     NEAR OCEAN|2546|\n",
      "|  -124.19|   41.78|              15.0|     3140.0|         714.0|    1645.0|     640.0|       1.6654|           74600.0|     NEAR OCEAN|1854|\n",
      "|  -124.18|   40.62|              35.0|      952.0|         178.0|     480.0|     179.0|       3.0536|          107000.0|     NEAR OCEAN|2632|\n",
      "|  -124.18|   40.78|              33.0|     1076.0|         222.0|     656.0|     236.0|       2.5096|           72200.0|     NEAR OCEAN|2554|\n",
      "|  -124.18|   40.78|              34.0|     1592.0|         364.0|     950.0|     317.0|       2.1607|           67000.0|     NEAR OCEAN|2555|\n",
      "|  -124.18|   40.79|              39.0|     1836.0|         352.0|     883.0|     337.0|        1.745|           70500.0|     NEAR OCEAN|2547|\n",
      "|  -124.17|   40.62|              32.0|     1595.0|         309.0|     706.0|     277.0|       2.8958|           86400.0|     NEAR OCEAN|2633|\n",
      "|  -124.17|   40.74|              17.0|     2026.0|         338.0|     873.0|     313.0|       4.0357|          128900.0|     NEAR OCEAN|2626|\n",
      "|  -124.17|   40.75|              13.0|     2171.0|         339.0|     951.0|     353.0|       4.8516|          116100.0|     NEAR OCEAN|2556|\n",
      "+---------+--------+------------------+-----------+--------------+----------+----------+-------------+------------------+---------------+----+\n",
      "only showing top 20 rows\n",
      "\n"
     ]
    }
   ],
   "execution_count": 12
  },
  {
   "metadata": {
    "ExecuteTime": {
     "end_time": "2024-11-04T05:28:57.452606Z",
     "start_time": "2024-11-04T05:28:56.373439Z"
    }
   },
   "cell_type": "code",
   "source": [
    "from pyspark.ml.feature import VectorAssembler\n",
    "\n",
    "numerical_vector_assembler = VectorAssembler(inputCols=numerical_features_list, outputCol='numerical_feature_vector')\n",
    "\n",
    "train = numerical_vector_assembler.transform(train)\n",
    "test = numerical_vector_assembler.transform(test)\n",
    "\n",
    "train.show(5)"
   ],
   "outputs": [
    {
     "name": "stdout",
     "output_type": "stream",
     "text": [
      "+---------+--------+------------------+-----------+--------------+----------+----------+-------------+------------------+---------------+----+------------------------+\n",
      "|longitude|latitude|housing_median_age|total_rooms|total_bedrooms|population|households|median_income|median_house_value|ocean_proximity|  id|numerical_feature_vector|\n",
      "+---------+--------+------------------+-----------+--------------+----------+----------+-------------+------------------+---------------+----+------------------------+\n",
      "|  -124.35|   40.54|              52.0|     1820.0|         300.0|     806.0|     270.0|       3.0147|           94600.0|     NEAR OCEAN|2655|    [-124.35,40.54,52...|\n",
      "|   -124.3|    41.8|              19.0|     2672.0|         552.0|    1298.0|     478.0|       1.9797|           85800.0|     NEAR OCEAN|1851|    [-124.3,41.8,19.0...|\n",
      "|   -124.3|   41.84|              17.0|     2677.0|         531.0|    1244.0|     456.0|       3.0313|          103600.0|     NEAR OCEAN|1861|    [-124.3,41.84,17....|\n",
      "|  -124.27|   40.69|              36.0|     2349.0|         528.0|    1194.0|     465.0|       2.5179|           79000.0|     NEAR OCEAN|2631|    [-124.27,40.69,36...|\n",
      "|  -124.25|   40.28|              32.0|     1430.0|         419.0|     434.0|     187.0|       1.9417|           76100.0|     NEAR OCEAN|2656|    [-124.25,40.28,32...|\n",
      "+---------+--------+------------------+-----------+--------------+----------+----------+-------------+------------------+---------------+----+------------------------+\n",
      "only showing top 5 rows\n",
      "\n"
     ]
    }
   ],
   "execution_count": 14
  },
  {
   "metadata": {
    "ExecuteTime": {
     "end_time": "2024-11-04T05:29:00.360279Z",
     "start_time": "2024-11-04T05:28:59.543145Z"
    }
   },
   "cell_type": "code",
   "source": [
    "from pyspark.ml.feature import StandardScaler\n",
    "\n",
    "scaler = StandardScaler(inputCol='numerical_feature_vector', outputCol='scaled_numerical_feature_vector', withStd=True, withMean=True)\n",
    "\n",
    "scaler = scaler.fit(train)\n",
    "\n",
    "train = scaler.transform(train)\n",
    "test = scaler.transform(test)\n",
    "\n"
   ],
   "outputs": [],
   "execution_count": 15
  },
  {
   "metadata": {
    "ExecuteTime": {
     "end_time": "2024-11-04T05:29:03.207939Z",
     "start_time": "2024-11-04T05:29:02.714188Z"
    }
   },
   "cell_type": "code",
   "source": "train.select('scaled_numerical_feature_vector').take(5)",
   "outputs": [
    {
     "data": {
      "text/plain": [
       "[Row(scaled_numerical_feature_vector=DenseVector([-2.3835, 2.288, 1.8514, -0.3754, -0.5685, -0.5407, -0.6013, -0.4502])),\n",
       " Row(scaled_numerical_feature_vector=DenseVector([-2.3585, 2.8757, -0.7697, 0.0178, 0.0334, -0.1103, -0.0577, -0.9941])),\n",
       " Row(scaled_numerical_feature_vector=DenseVector([-2.3585, 2.8943, -0.9286, 0.0201, -0.0167, -0.1575, -0.1152, -0.4415])),\n",
       " Row(scaled_numerical_feature_vector=DenseVector([-2.3435, 2.3579, 0.5805, -0.1313, -0.0239, -0.2012, -0.0917, -0.7113])),\n",
       " Row(scaled_numerical_feature_vector=DenseVector([-2.3336, 2.1667, 0.2628, -0.5553, -0.2843, -0.8661, -0.8182, -1.0141]))]"
      ]
     },
     "execution_count": 16,
     "metadata": {},
     "output_type": "execute_result"
    }
   ],
   "execution_count": 16
  },
  {
   "metadata": {
    "ExecuteTime": {
     "end_time": "2024-11-04T05:29:06.846338Z",
     "start_time": "2024-11-04T05:29:05.946078Z"
    }
   },
   "cell_type": "code",
   "source": [
    "from pyspark.ml.feature import StringIndexer\n",
    "\n",
    "indexer = StringIndexer(inputCol='ocean_proximity', outputCol='ocean_category_index')\n",
    "\n",
    "indexer = indexer.fit(train)\n",
    "train = indexer.transform(train)\n",
    "test = indexer.transform(test)"
   ],
   "outputs": [],
   "execution_count": 17
  },
  {
   "metadata": {
    "ExecuteTime": {
     "end_time": "2024-11-04T05:29:09.962019Z",
     "start_time": "2024-11-04T05:29:09.519379Z"
    }
   },
   "cell_type": "code",
   "source": "train.show(5)",
   "outputs": [
    {
     "name": "stdout",
     "output_type": "stream",
     "text": [
      "+---------+--------+------------------+-----------+--------------+----------+----------+-------------+------------------+---------------+----+------------------------+-------------------------------+--------------------+\n",
      "|longitude|latitude|housing_median_age|total_rooms|total_bedrooms|population|households|median_income|median_house_value|ocean_proximity|  id|numerical_feature_vector|scaled_numerical_feature_vector|ocean_category_index|\n",
      "+---------+--------+------------------+-----------+--------------+----------+----------+-------------+------------------+---------------+----+------------------------+-------------------------------+--------------------+\n",
      "|  -124.35|   40.54|              52.0|     1820.0|         300.0|     806.0|     270.0|       3.0147|           94600.0|     NEAR OCEAN|2655|    [-124.35,40.54,52...|           [-2.3834506612078...|                 2.0|\n",
      "|   -124.3|    41.8|              19.0|     2672.0|         552.0|    1298.0|     478.0|       1.9797|           85800.0|     NEAR OCEAN|1851|    [-124.3,41.8,19.0...|           [-2.3585123974636...|                 2.0|\n",
      "|   -124.3|   41.84|              17.0|     2677.0|         531.0|    1244.0|     456.0|       3.0313|          103600.0|     NEAR OCEAN|1861|    [-124.3,41.84,17....|           [-2.3585123974636...|                 2.0|\n",
      "|  -124.27|   40.69|              36.0|     2349.0|         528.0|    1194.0|     465.0|       2.5179|           79000.0|     NEAR OCEAN|2631|    [-124.27,40.69,36...|           [-2.3435494392170...|                 2.0|\n",
      "|  -124.25|   40.28|              32.0|     1430.0|         419.0|     434.0|     187.0|       1.9417|           76100.0|     NEAR OCEAN|2656|    [-124.25,40.28,32...|           [-2.3335741337193...|                 2.0|\n",
      "+---------+--------+------------------+-----------+--------------+----------+----------+-------------+------------------+---------------+----+------------------------+-------------------------------+--------------------+\n",
      "only showing top 5 rows\n",
      "\n"
     ]
    }
   ],
   "execution_count": 18
  },
  {
   "metadata": {
    "ExecuteTime": {
     "end_time": "2024-11-04T05:29:12.443125Z",
     "start_time": "2024-11-04T05:29:12.365499Z"
    }
   },
   "cell_type": "code",
   "source": [
    "from pyspark.ml.feature import OneHotEncoder\n",
    "\n",
    "one_hot_encoder = OneHotEncoder(inputCol='ocean_category_index', outputCol='ocean_category_one_hot')\n",
    "one_hot_encoder = one_hot_encoder.fit(train)\n",
    "\n",
    "train = one_hot_encoder.transform(train)\n",
    "test = one_hot_encoder.transform(test)\n",
    "\n"
   ],
   "outputs": [],
   "execution_count": 19
  },
  {
   "metadata": {
    "ExecuteTime": {
     "end_time": "2024-11-04T05:29:17.199833Z",
     "start_time": "2024-11-04T05:29:16.831142Z"
    }
   },
   "cell_type": "code",
   "source": "train.show(5)",
   "outputs": [
    {
     "name": "stdout",
     "output_type": "stream",
     "text": [
      "+---------+--------+------------------+-----------+--------------+----------+----------+-------------+------------------+---------------+----+------------------------+-------------------------------+--------------------+----------------------+\n",
      "|longitude|latitude|housing_median_age|total_rooms|total_bedrooms|population|households|median_income|median_house_value|ocean_proximity|  id|numerical_feature_vector|scaled_numerical_feature_vector|ocean_category_index|ocean_category_one_hot|\n",
      "+---------+--------+------------------+-----------+--------------+----------+----------+-------------+------------------+---------------+----+------------------------+-------------------------------+--------------------+----------------------+\n",
      "|  -124.35|   40.54|              52.0|     1820.0|         300.0|     806.0|     270.0|       3.0147|           94600.0|     NEAR OCEAN|2655|    [-124.35,40.54,52...|           [-2.3834506612078...|                 2.0|         (4,[2],[1.0])|\n",
      "|   -124.3|    41.8|              19.0|     2672.0|         552.0|    1298.0|     478.0|       1.9797|           85800.0|     NEAR OCEAN|1851|    [-124.3,41.8,19.0...|           [-2.3585123974636...|                 2.0|         (4,[2],[1.0])|\n",
      "|   -124.3|   41.84|              17.0|     2677.0|         531.0|    1244.0|     456.0|       3.0313|          103600.0|     NEAR OCEAN|1861|    [-124.3,41.84,17....|           [-2.3585123974636...|                 2.0|         (4,[2],[1.0])|\n",
      "|  -124.27|   40.69|              36.0|     2349.0|         528.0|    1194.0|     465.0|       2.5179|           79000.0|     NEAR OCEAN|2631|    [-124.27,40.69,36...|           [-2.3435494392170...|                 2.0|         (4,[2],[1.0])|\n",
      "|  -124.25|   40.28|              32.0|     1430.0|         419.0|     434.0|     187.0|       1.9417|           76100.0|     NEAR OCEAN|2656|    [-124.25,40.28,32...|           [-2.3335741337193...|                 2.0|         (4,[2],[1.0])|\n",
      "+---------+--------+------------------+-----------+--------------+----------+----------+-------------+------------------+---------------+----+------------------------+-------------------------------+--------------------+----------------------+\n",
      "only showing top 5 rows\n",
      "\n"
     ]
    }
   ],
   "execution_count": 20
  },
  {
   "metadata": {
    "ExecuteTime": {
     "end_time": "2024-11-04T05:29:19.873362Z",
     "start_time": "2024-11-04T05:29:19.828566Z"
    }
   },
   "cell_type": "code",
   "source": [
    "assembler = VectorAssembler(inputCols=['scaled_numerical_feature_vector', 'ocean_category_one_hot'], outputCol='final_feature_vector')\n",
    "train = assembler.transform(train)\n",
    "test = assembler.transform(test)"
   ],
   "outputs": [],
   "execution_count": 21
  },
  {
   "metadata": {
    "ExecuteTime": {
     "end_time": "2024-07-27T18:10:00.180168Z",
     "start_time": "2024-07-27T18:09:59.456285Z"
    }
   },
   "cell_type": "code",
   "source": "train.show(5)",
   "outputs": [
    {
     "name": "stdout",
     "output_type": "stream",
     "text": [
      "+---------+--------+------------------+-----------+--------------+----------+----------+-------------+------------------+---------------+----+------------------------+-------------------------------+--------------------+----------------------+--------------------+\n",
      "|longitude|latitude|housing_median_age|total_rooms|total_bedrooms|population|households|median_income|median_house_value|ocean_proximity|  id|numerical_feature_vector|scaled_numerical_feature_vector|ocean_category_index|ocean_category_one_hot|final_feature_vector|\n",
      "+---------+--------+------------------+-----------+--------------+----------+----------+-------------+------------------+---------------+----+------------------------+-------------------------------+--------------------+----------------------+--------------------+\n",
      "|   -124.3|    41.8|              19.0|     2672.0|         552.0|    1298.0|     478.0|       1.9797|           85800.0|     NEAR OCEAN|1851|    [-124.3,41.8,19.0...|           [-2.3607740418622...|                 2.0|         (4,[2],[1.0])|[-2.3607740418622...|\n",
      "|   -124.3|   41.84|              17.0|     2677.0|         531.0|    1244.0|     456.0|       3.0313|          103600.0|     NEAR OCEAN|1861|    [-124.3,41.84,17....|           [-2.3607740418622...|                 2.0|         (4,[2],[1.0])|[-2.3607740418622...|\n",
      "|  -124.26|   40.58|              52.0|     2217.0|         394.0|     907.0|     369.0|       2.3571|          111400.0|     NEAR OCEAN|2653|    [-124.26,40.58,52...|           [-2.3408140995180...|                 2.0|         (4,[2],[1.0])|[-2.3408140995180...|\n",
      "|  -124.25|   40.28|              32.0|     1430.0|         419.0|     434.0|     187.0|       1.9417|           76100.0|     NEAR OCEAN|2656|    [-124.25,40.28,32...|           [-2.3358241139320...|                 2.0|         (4,[2],[1.0])|[-2.3358241139320...|\n",
      "|  -124.23|   40.81|              52.0|     1112.0|         209.0|     544.0|     172.0|       3.3462|           50800.0|     NEAR OCEAN|2593|    [-124.23,40.81,52...|           [-2.3258441427599...|                 2.0|         (4,[2],[1.0])|[-2.3258441427599...|\n",
      "+---------+--------+------------------+-----------+--------------+----------+----------+-------------+------------------+---------------+----+------------------------+-------------------------------+--------------------+----------------------+--------------------+\n",
      "only showing top 5 rows\n",
      "\n"
     ]
    }
   ],
   "execution_count": 40
  },
  {
   "metadata": {
    "ExecuteTime": {
     "end_time": "2024-11-04T05:29:29.427387Z",
     "start_time": "2024-11-04T05:29:26.737054Z"
    }
   },
   "cell_type": "code",
   "source": [
    "from pyspark.ml.regression import LinearRegression\n",
    "\n",
    "lr = LinearRegression(featuresCol='final_feature_vector', labelCol='median_house_value')\n",
    "lr = lr.fit(train)\n"
   ],
   "outputs": [
    {
     "name": "stderr",
     "output_type": "stream",
     "text": [
      "                                                                                \r"
     ]
    }
   ],
   "execution_count": 22
  },
  {
   "metadata": {
    "ExecuteTime": {
     "end_time": "2024-11-04T05:29:38.016599Z",
     "start_time": "2024-11-04T05:29:37.594283Z"
    }
   },
   "cell_type": "code",
   "source": [
    "pred_train_df = lr.transform(train).withColumnRenamed('prediction', 'predicted_median_house_value')\n",
    "pred_train_df.show(5)"
   ],
   "outputs": [
    {
     "name": "stdout",
     "output_type": "stream",
     "text": [
      "+---------+--------+------------------+-----------+--------------+----------+----------+-------------+------------------+---------------+----+------------------------+-------------------------------+--------------------+----------------------+--------------------+----------------------------+\n",
      "|longitude|latitude|housing_median_age|total_rooms|total_bedrooms|population|households|median_income|median_house_value|ocean_proximity|  id|numerical_feature_vector|scaled_numerical_feature_vector|ocean_category_index|ocean_category_one_hot|final_feature_vector|predicted_median_house_value|\n",
      "+---------+--------+------------------+-----------+--------------+----------+----------+-------------+------------------+---------------+----+------------------------+-------------------------------+--------------------+----------------------+--------------------+----------------------------+\n",
      "|  -124.35|   40.54|              52.0|     1820.0|         300.0|     806.0|     270.0|       3.0147|           94600.0|     NEAR OCEAN|2655|    [-124.35,40.54,52...|           [-2.3834506612078...|                 2.0|         (4,[2],[1.0])|[-2.3834506612078...|          209230.46811514423|\n",
      "|   -124.3|    41.8|              19.0|     2672.0|         552.0|    1298.0|     478.0|       1.9797|           85800.0|     NEAR OCEAN|1851|    [-124.3,41.8,19.0...|           [-2.3585123974636...|                 2.0|         (4,[2],[1.0])|[-2.3585123974636...|          111291.72855457733|\n",
      "|   -124.3|   41.84|              17.0|     2677.0|         531.0|    1244.0|     456.0|       3.0313|          103600.0|     NEAR OCEAN|1861|    [-124.3,41.84,17....|           [-2.3585123974636...|                 2.0|         (4,[2],[1.0])|[-2.3585123974636...|          148024.79132128964|\n",
      "|  -124.27|   40.69|              36.0|     2349.0|         528.0|    1194.0|     465.0|       2.5179|           79000.0|     NEAR OCEAN|2631|    [-124.27,40.69,36...|           [-2.3435494392170...|                 2.0|         (4,[2],[1.0])|[-2.3435494392170...|           180108.8624157983|\n",
      "|  -124.25|   40.28|              32.0|     1430.0|         419.0|     434.0|     187.0|       1.9417|           76100.0|     NEAR OCEAN|2656|    [-124.25,40.28,32...|           [-2.3335741337193...|                 2.0|         (4,[2],[1.0])|[-2.3335741337193...|          166523.49077782044|\n",
      "+---------+--------+------------------+-----------+--------------+----------+----------+-------------+------------------+---------------+----+------------------------+-------------------------------+--------------------+----------------------+--------------------+----------------------------+\n",
      "only showing top 5 rows\n",
      "\n"
     ]
    }
   ],
   "execution_count": 23
  },
  {
   "metadata": {
    "ExecuteTime": {
     "end_time": "2024-11-04T05:29:41.162742Z",
     "start_time": "2024-11-04T05:29:40.717703Z"
    }
   },
   "cell_type": "code",
   "source": [
    "pred_test_df = lr.transform(test).withColumnRenamed('prediction', 'predicted_median_house_value')\n",
    "pred_test_df.show(5)"
   ],
   "outputs": [
    {
     "name": "stdout",
     "output_type": "stream",
     "text": [
      "+---------+--------+------------------+-----------+--------------+----------+----------+-------------+------------------+---------------+----+------------------------+-------------------------------+--------------------+----------------------+--------------------+----------------------------+\n",
      "|longitude|latitude|housing_median_age|total_rooms|total_bedrooms|population|households|median_income|median_house_value|ocean_proximity|  id|numerical_feature_vector|scaled_numerical_feature_vector|ocean_category_index|ocean_category_one_hot|final_feature_vector|predicted_median_house_value|\n",
      "+---------+--------+------------------+-----------+--------------+----------+----------+-------------+------------------+---------------+----+------------------------+-------------------------------+--------------------+----------------------+--------------------+----------------------------+\n",
      "|  -124.26|   40.58|              52.0|     2217.0|         394.0|     907.0|     369.0|       2.3571|          111400.0|     NEAR OCEAN|2653|    [-124.26,40.58,52...|           [-2.3385617864682...|                 2.0|         (4,[2],[1.0])|[-2.3385617864682...|          188673.55972238045|\n",
      "|  -124.23|   40.54|              52.0|     2694.0|         453.0|    1152.0|     435.0|       3.0806|          106700.0|     NEAR OCEAN|2654|    [-124.23,40.54,52...|           [-2.3235988282216...|                 2.0|         (4,[2],[1.0])|[-2.3235988282216...|          214748.54580087628|\n",
      "|  -124.23|   40.81|              52.0|     1112.0|         209.0|     544.0|     172.0|       3.3462|           50800.0|     NEAR OCEAN|2593|    [-124.23,40.81,52...|           [-2.3235988282216...|                 2.0|         (4,[2],[1.0])|[-2.3235988282216...|           211685.5405284765|\n",
      "|  -124.19|   40.73|              21.0|     5694.0|        1056.0|    2907.0|     972.0|       3.5363|           90100.0|     NEAR OCEAN|2629|    [-124.19,40.73,21...|           [-2.3036482172262...|                 2.0|         (4,[2],[1.0])|[-2.3036482172262...|           195356.4442156884|\n",
      "|  -124.18|   40.78|              37.0|     1453.0|         293.0|     867.0|     310.0|       2.5536|           70200.0|     NEAR OCEAN|2553|    [-124.18,40.78,37...|           [-2.2986605644773...|                 2.0|         (4,[2],[1.0])|[-2.2986605644773...|          166931.13646896498|\n",
      "+---------+--------+------------------+-----------+--------------+----------+----------+-------------+------------------+---------------+----+------------------------+-------------------------------+--------------------+----------------------+--------------------+----------------------------+\n",
      "only showing top 5 rows\n",
      "\n"
     ]
    }
   ],
   "execution_count": 24
  },
  {
   "metadata": {},
   "cell_type": "code",
   "outputs": [],
   "execution_count": null,
   "source": ""
  }
 ],
 "metadata": {
  "language_info": {
   "name": "python"
  },
  "kernelspec": {
   "name": "python3",
   "language": "python",
   "display_name": "Python 3 (ipykernel)"
  }
 },
 "nbformat": 4,
 "nbformat_minor": 2
}
